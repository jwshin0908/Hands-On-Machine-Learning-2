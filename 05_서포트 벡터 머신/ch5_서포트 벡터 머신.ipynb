{
 "cells": [
  {
   "cell_type": "markdown",
   "id": "be19d94d",
   "metadata": {},
   "source": [
    "**서포트 벡터 머신(SVM)** : 매우 강력하고 선형이나 비선형 분류, 회귀, 이상치 탐색에도 사용할 수 있는 다목적 머신러닝 모델\n",
    "+ 복잡한 분류 문제에 잘 들어맞으며 작거나 중간 크기의 데이터셋에 적합"
   ]
  },
  {
   "cell_type": "markdown",
   "id": "8ffa82b2",
   "metadata": {},
   "source": [
    "## 5.1 선형 SVM 분류"
   ]
  },
  {
   "cell_type": "markdown",
   "id": "cf1198ff",
   "metadata": {},
   "source": [
    "**라지 마진 분류(large margin classification)** : 클래스 사이에 가장 폭이 넓은 도로를 찾는 것\n",
    "\n",
    "오른쪽 그래프의 실선 : SVM 분류기의 결정 경계 / 두 개의 클래스를 나누고 있을 뿐만 아니라 제일 가까운 훈련 샘플로부터 가능한 한 멀리 떨어져 있음\n",
    "\n",
    "<img src=\"img/5-1.png\" width=\"500px\" align='left'>  "
   ]
  },
  {
   "cell_type": "markdown",
   "id": "1b49f74d",
   "metadata": {},
   "source": [
    "**서포트 벡터(support vector)** : 도로 경계에 위치한 샘플\n",
    "\n",
    "SVM은 특성의 스케일에 민감함 -> 특성의 스케일을 조정하면 결정 경계가 훨씬 좋아짐(StandardScaler, 오른쪽 그래프)\n",
    "\n",
    "<img src=\"img/5-2.png\" width=\"500px\" align='left'>  "
   ]
  },
  {
   "cell_type": "markdown",
   "id": "9388de6a",
   "metadata": {},
   "source": [
    "### 5.1.1 소프트 마진 분류\n",
    "**하드 마진 분류(hard margin classification)** : 모든 샘플이 도로 바깥쪽에 올바르게 분류\n",
    "+ 데이터가 선형적으로 구분될 수 있어야 제대로 작동\n",
    "+ 이상치에 민감함\n",
    "\n",
    "<img src=\"img/5-3.png\" width=\"500px\" align='left'>  "
   ]
  },
  {
   "cell_type": "markdown",
   "id": "0a7fdafe",
   "metadata": {},
   "source": [
    "**소프트 마진 분류(soft margin classification)** : 도로의 폭을 가능한 한 넓게 유지하는 것과 마진 오류 사이에 적절한 균형\n",
    "+ 마진 오류(margin violation) : 샘플이 도로 중간이나 심지어 반대쪽에 있는 경우. 일반적으로 작은 것이 좋음\n",
    "+ C(하이퍼파라미터)\n",
    "    + 클 경우 : 규제가 작음 / 복잡한 모델 / 훈련 시간 긺 / 오른쪽 그래프\n",
    "    + 작을 경우 : 규제가 큼 / 단순한 모델 / 훈련 시간 짧음 / 왼쪽 그래프\n",
    "    + 과대적합일 경우 C를 감소시킴\n",
    "    \n",
    "<img src=\"img/5-4.png\" width=\"500px\" align='left'>  "
   ]
  },
  {
   "cell_type": "code",
   "execution_count": 4,
   "id": "7ac98312",
   "metadata": {},
   "outputs": [
    {
     "data": {
      "text/plain": [
       "array([1.])"
      ]
     },
     "execution_count": 4,
     "metadata": {},
     "output_type": "execute_result"
    }
   ],
   "source": [
    "# C = 1, 힌지 손실 함수를 적용한 LinearSVC 클래스 사용\n",
    "import numpy as np\n",
    "from sklearn import datasets\n",
    "from sklearn.pipeline import Pipeline\n",
    "from sklearn.preprocessing import StandardScaler\n",
    "from sklearn.svm import LinearSVC\n",
    "\n",
    "iris = datasets.load_iris()\n",
    "X = iris[\"data\"][:, (2, 3)]  # 꽃잎 길이, 꽃잎 너비\n",
    "y = (iris[\"target\"] == 2).astype(np.float64)  # Iris virginica\n",
    "\n",
    "svm_clf = Pipeline([\n",
    "        (\"scaler\", StandardScaler()),\n",
    "        (\"linear_svc\", LinearSVC(C=1, loss=\"hinge\", random_state=42)),\n",
    "    ])\n",
    "\n",
    "svm_clf.fit(X, y)\n",
    "svm_clf.predict([[5.5, 1.7]])"
   ]
  },
  {
   "cell_type": "markdown",
   "id": "aeed4095",
   "metadata": {},
   "source": [
    "**SVC** : OvO / libsvm / 비선형 / loss = 'hinge'\n",
    "\n",
    "**LinearSVC** : OvR / liblinear / 선형 / loss = 'squared_hinge'\n",
    "+ LinearSVC -> SVC(kernel='linear', C=1)로 대체 가능\n",
    "+ LinearSVC는 규제에 편향을 포함시킴. 훈련 세트에서 평균을 빼서 중앙에 맞춰야 함(StandardScaler)"
   ]
  },
  {
   "cell_type": "markdown",
   "id": "909ec3d5",
   "metadata": {},
   "source": [
    "## 5.2 비선형 SVM 분류"
   ]
  },
  {
   "cell_type": "markdown",
   "id": "febebb07",
   "metadata": {},
   "source": [
    "다항 특성 추가 : 비선형 데이터셋을 다루는 한 가지 방법  \n",
    "$x_2 = (x_1)^2$ -> 왼쪽 데이터셋은 선형적으로 구분이 안 되지만 오른쪽은 가능\n",
    "\n",
    "<img src=\"img/5-5.png\" width=\"500px\" align='left'>  "
   ]
  },
  {
   "cell_type": "code",
   "execution_count": 10,
   "id": "d535c77a",
   "metadata": {},
   "outputs": [
    {
     "name": "stderr",
     "output_type": "stream",
     "text": [
      "C:\\Users\\jwshi\\anaconda3\\lib\\site-packages\\sklearn\\svm\\_base.py:1206: ConvergenceWarning: Liblinear failed to converge, increase the number of iterations.\n",
      "  warnings.warn(\n"
     ]
    },
    {
     "data": {
      "text/plain": [
       "Pipeline(steps=[('poly_features', PolynomialFeatures(degree=3)),\n",
       "                ('scaler', StandardScaler()),\n",
       "                ('svm_clf', LinearSVC(C=10, loss='hinge', random_state=42))])"
      ]
     },
     "execution_count": 10,
     "metadata": {},
     "output_type": "execute_result"
    }
   ],
   "source": [
    "# PolynomialFeatures 변환기, StandardScaler, LinearSVC를 연결하여 Pipeline 생성\n",
    "from sklearn.datasets import make_moons\n",
    "from sklearn.pipeline import Pipeline\n",
    "from sklearn.preprocessing import PolynomialFeatures\n",
    "\n",
    "X, y = make_moons(n_samples=100, noise=0.15, random_state=42)\n",
    "polynomial_svm_clf = Pipeline([\n",
    "        (\"poly_features\", PolynomialFeatures(degree=3)),\n",
    "        (\"scaler\", StandardScaler()),\n",
    "        (\"svm_clf\", LinearSVC(C=10, loss=\"hinge\", random_state=42))\n",
    "    ])\n",
    "\n",
    "polynomial_svm_clf.fit(X, y)"
   ]
  },
  {
   "cell_type": "markdown",
   "id": "6047ec09",
   "metadata": {},
   "source": [
    "<img src=\"img/5-6.png\" width=\"500px\" align='left'>  "
   ]
  },
  {
   "cell_type": "markdown",
   "id": "42da5898",
   "metadata": {},
   "source": [
    "### 5.2.1 다항식 커널\n",
    "낮은 차수의 다항식 : 매우 복잡한 데이터셋 표현 못함  \n",
    "높은 차수의 다항식 : 많은 특성 탓에 모델이 느려짐\n",
    "\n",
    "**커널 트릭(kernel trick)** : 실제로는 특성을 추가하지 않으면서 다항식 특서을 많이 추가한 것과 같은 결과를 얻을 수 있음\n",
    "+ coef0 : 모델이 높은 차수와 낮은 차수에 얼마나 영향을 받을지 조절"
   ]
  },
  {
   "cell_type": "code",
   "execution_count": 15,
   "id": "e949b186",
   "metadata": {},
   "outputs": [],
   "source": [
    "from sklearn.svm import SVC"
   ]
  },
  {
   "cell_type": "code",
   "execution_count": 18,
   "id": "f103a88b",
   "metadata": {},
   "outputs": [
    {
     "data": {
      "text/plain": [
       "Pipeline(steps=[('scaler', StandardScaler()),\n",
       "                ('svm_clf', SVC(C=5, coef0=1, kernel='poly'))])"
      ]
     },
     "execution_count": 18,
     "metadata": {},
     "output_type": "execute_result"
    }
   ],
   "source": [
    "# 왼쪽 그래프 / 3차 다항식 커널을 사용해 SVM 분류기를 훈련\n",
    "poly_kernel_svm_clf = Pipeline([\n",
    "        (\"scaler\", StandardScaler()),\n",
    "        (\"svm_clf\", SVC(kernel=\"poly\", degree=3, coef0=1, C=5))\n",
    "    ])\n",
    "poly_kernel_svm_clf.fit(X, y)"
   ]
  },
  {
   "cell_type": "code",
   "execution_count": 19,
   "id": "bb2b88d8",
   "metadata": {},
   "outputs": [
    {
     "data": {
      "text/plain": [
       "Pipeline(steps=[('scaler', StandardScaler()),\n",
       "                ('svm_clf', SVC(C=5, coef0=100, degree=10, kernel='poly'))])"
      ]
     },
     "execution_count": 19,
     "metadata": {},
     "output_type": "execute_result"
    }
   ],
   "source": [
    "# 오른쪽 그래프 / 10차 다항식 커널을 사용해 SVM 분류기를 훈련\n",
    "poly100_kernel_svm_clf = Pipeline([\n",
    "        (\"scaler\", StandardScaler()),\n",
    "        (\"svm_clf\", SVC(kernel=\"poly\", degree=10, coef0=100, C=5))\n",
    "    ])\n",
    "poly100_kernel_svm_clf.fit(X, y)"
   ]
  },
  {
   "cell_type": "markdown",
   "id": "ddc8769d",
   "metadata": {},
   "source": [
    "<img src=\"img/5-7.png\" width=\"500px\" align='left'>  "
   ]
  },
  {
   "cell_type": "markdown",
   "id": "9978e278",
   "metadata": {},
   "source": [
    "### 5.2.2 유사도 특성\n",
    "**유사도 함수(similarity function)** : 각 샘플이 특정 랜드마크와 얼마나 닮았는지 측정\n",
    "\n",
    "**가우시안 방사 기저 함수(radial basis function, RBF)**\n",
    "+ 0(랜드마크에서 아주 멀리 떨어진 경우)부터 1(랜드마크와 같은 위치일 경우)까지 변화하며 종 모양으로 나타남\n",
    "+ $\\displaystyle \\gamma$ : 랜드마크 지점\n",
    "+ $\\boldsymbol{\\ell}$ : 0보다 커야 하며 값이 작을수록 폭이 넒은 종 모양\n",
    "\n",
    "${\\displaystyle \\phi_{\\gamma}(\\mathbf{x}, \\boldsymbol{\\ell})} = {\\displaystyle \\exp({\\displaystyle -\\gamma \\left\\| \\mathbf{x} - \\boldsymbol{\\ell} \\right\\|^2})}$\n",
    "\n",
    "<img src=\"img/5-8.png\" width=\"500px\" align='left'>  "
   ]
  },
  {
   "cell_type": "markdown",
   "id": "0acbdd57",
   "metadata": {},
   "source": [
    "### 5.2.3 가우시안 RBF 커널"
   ]
  },
  {
   "cell_type": "code",
   "execution_count": 21,
   "id": "8b281ba1",
   "metadata": {},
   "outputs": [
    {
     "data": {
      "text/plain": [
       "Pipeline(steps=[('scaler', StandardScaler()),\n",
       "                ('svm_clf', SVC(C=0.001, gamma=5))])"
      ]
     },
     "execution_count": 21,
     "metadata": {},
     "output_type": "execute_result"
    }
   ],
   "source": [
    "# 가우시안 RBF 커널을 사용한 SVC 모델\n",
    "rbf_kernel_svm_clf = Pipeline([\n",
    "        (\"scaler\", StandardScaler()),\n",
    "        (\"svm_clf\", SVC(kernel=\"rbf\", gamma=5, C=0.001))\n",
    "    ])\n",
    "rbf_kernel_svm_clf.fit(X, y)"
   ]
  },
  {
   "cell_type": "markdown",
   "id": "53cda8d5",
   "metadata": {},
   "source": [
    "**하이퍼파라미터 gamma($\\displaystyle \\gamma$)** : 규제의 역할(하이퍼파라미터 C와 비슷)\n",
    "+ 증가시키면 : 좁은 종 모양 그래프. 각 샘플의 영향 범위가 작아짐\n",
    "+ 감소시키면 : 넓은 종 모양 그래프. 각 샘플의 영향 범위가 커짐\n",
    "+ 과대적합일 때는 감소시켜야 하고, 과소적합일 경우에는 증가시켜야 함\n",
    "\n",
    "**여러 커널 중 언제나 선형 커널을 가장 먼저 시도해 볼 것**  \n",
    "+ LinearSVC가 SVC(kernel='linear')보다 훨씬 빠름 / 특히 훈련 세트가 아주 크거나 특성 수가 많을 경우\n",
    "+ 훈련 세트가 너무 크지 않다면 가우시안 RBF 커널도 좋음\n",
    "\n",
    "<img src=\"img/5-9.png\" width=\"500px\" align='left'>  "
   ]
  },
  {
   "cell_type": "markdown",
   "id": "d63967b2",
   "metadata": {},
   "source": [
    "### 5.2.4 계산 복잡도\n",
    "**LinearSVC**\n",
    "+ 선형 SVM을 위한 최적화된 알고리즘을 구현한 liblinear 라이브러리 기반\n",
    "\n",
    "**SVC**\n",
    "+ 커널 트릭 알고리즘을 구현한 libsvm 라이브러리 기반\n",
    "\n",
    "<img src=\"img/표 5-1.png\" width=\"500px\" align='left'>  "
   ]
  },
  {
   "cell_type": "markdown",
   "id": "26871b93",
   "metadata": {},
   "source": [
    "## 5.3 SVM 회귀"
   ]
  },
  {
   "cell_type": "markdown",
   "id": "1d9df528",
   "metadata": {},
   "source": [
    "**SVM 회귀**\n",
    "+ 제한된 마진 오류 안에서 도로 안에 가능한 한 많은 샘플이 들어가도록 학습\n",
    "+ 도로의 폭은 하이퍼파라미터 $\\displaystyle \\epsilon$ 으로 조절\n",
    "+ 마진 안에서는 훈련 샘플이 추가되어도 모델의 예측에는 영향이 없음($\\displaystyle \\epsilon$ 에 민감하지 않다)\n",
    "\n",
    "**SVR** : SVC의 회귀 버전. 필요한 시간이 훈련 세트에 비례해서 선형적으로 증가\n",
    "\n",
    "**LinearSVR** : LinearSVC의 회귀 버전. 훈련 세트가 커지면 모델이 느려짐\n",
    "\n",
    "<img src=\"img/5-10.png\" width=\"500px\" align='left'>  "
   ]
  },
  {
   "cell_type": "code",
   "execution_count": 22,
   "id": "a11bfd43",
   "metadata": {},
   "outputs": [
    {
     "data": {
      "text/plain": [
       "LinearSVR(epsilon=1.5, random_state=42)"
      ]
     },
     "execution_count": 22,
     "metadata": {},
     "output_type": "execute_result"
    }
   ],
   "source": [
    "from sklearn.svm import LinearSVR\n",
    "\n",
    "svm_reg = LinearSVR(epsilon=1.5, random_state=42)\n",
    "svm_reg.fit(X, y)"
   ]
  },
  {
   "cell_type": "markdown",
   "id": "15d921fe",
   "metadata": {},
   "source": [
    "비선형 회귀 작업을 처리하기 위해 커널 SVM 모델을 사용(2차 다항 커널을 사용한 SVM 회귀)\n",
    "<img src=\"img/5-11.png\" width=\"500px\" align='left'>"
   ]
  },
  {
   "cell_type": "code",
   "execution_count": 25,
   "id": "7de974ef",
   "metadata": {},
   "outputs": [
    {
     "data": {
      "text/plain": [
       "SVR(C=100, degree=2, kernel='poly')"
      ]
     },
     "execution_count": 25,
     "metadata": {},
     "output_type": "execute_result"
    }
   ],
   "source": [
    "from sklearn.svm import SVR\n",
    "svm_poly_reg1 = SVR(kernel=\"poly\", degree=2, C=100, epsilon=0.1, gamma=\"scale\")\n",
    "svm_poly_reg1.fit(X, y)"
   ]
  },
  {
   "cell_type": "code",
   "execution_count": 24,
   "id": "a1986056",
   "metadata": {},
   "outputs": [
    {
     "data": {
      "text/plain": [
       "SVR(C=0.01, degree=2, kernel='poly')"
      ]
     },
     "execution_count": 24,
     "metadata": {},
     "output_type": "execute_result"
    }
   ],
   "source": [
    "svm_poly_reg2 = SVR(kernel=\"poly\", degree=2, C=0.01, epsilon=0.1, gamma=\"scale\")\n",
    "svm_poly_reg2.fit(X, y)"
   ]
  },
  {
   "cell_type": "markdown",
   "id": "2492a387",
   "metadata": {},
   "source": [
    "## 5.4 SVM 이론"
   ]
  },
  {
   "cell_type": "markdown",
   "id": "0cf33e64",
   "metadata": {},
   "source": []
  }
 ],
 "metadata": {
  "kernelspec": {
   "display_name": "Python 3 (ipykernel)",
   "language": "python",
   "name": "python3"
  },
  "language_info": {
   "codemirror_mode": {
    "name": "ipython",
    "version": 3
   },
   "file_extension": ".py",
   "mimetype": "text/x-python",
   "name": "python",
   "nbconvert_exporter": "python",
   "pygments_lexer": "ipython3",
   "version": "3.9.12"
  }
 },
 "nbformat": 4,
 "nbformat_minor": 5
}
